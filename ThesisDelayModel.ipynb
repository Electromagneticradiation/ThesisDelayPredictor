{
 "cells": [
  {
   "cell_type": "markdown",
   "metadata": {
    "id": "WPXBIxZYnD_E"
   },
   "source": [
    "#### Classification Model : Predicts **Delay** in Research Paper Completion\n",
    "\n",
    "---"
   ]
  },
  {
   "cell_type": "code",
   "execution_count": null,
   "metadata": {
    "id": "AKuvJuDFmyVj"
   },
   "outputs": [],
   "source": [
    "import pandas\n",
    "from sklearn.ensemble import RandomForestClassifier\n",
    "from sklearn.model_selection import StratifiedKFold, GridSearchCV\n",
    "import joblib\n",
    "import json"
   ]
  },
  {
   "cell_type": "markdown",
   "metadata": {
    "id": "-O_DOfhFRL54"
   },
   "source": [
    "Fetch the dummy data CSV & separate I/O stuff"
   ]
  },
  {
   "cell_type": "code",
   "execution_count": null,
   "metadata": {
    "id": "6bE7RaN1r7nj"
   },
   "outputs": [],
   "source": [
    "data = pandas.read_csv(\"/content/phd_delay_data.csv\")\n",
    "x = data.drop(columns = ['delayed'])\n",
    "y = data['delayed']\n",
    "feat = x.columns.tolist()  #To save in metadata later"
   ]
  },
  {
   "cell_type": "markdown",
   "metadata": {
    "id": "SGq0KBP3RedL"
   },
   "source": [
    "Cross validation > Training testing (Prevents overfitting)\n",
    "\n",
    "Hyperparameter tuning via Grid search finds best combo by trial and error"
   ]
  },
  {
   "cell_type": "code",
   "execution_count": null,
   "metadata": {
    "id": "IgLBpB_duwv0"
   },
   "outputs": [],
   "source": [
    "model = RandomForestClassifier(random_state = 69)\n",
    "\n",
    "# Stratified K Fold keeps the class ratio constant across folds\n",
    "crossval = StratifiedKFold(shuffle = True, random_state = 69)\n",
    "\n",
    "hyperpara = {'max_depth': [5,10,15],\n",
    "    'min_samples_split': [2, 5],\n",
    "    'min_samples_leaf': [1, 2],\n",
    "    'max_features': ['sqrt', 'log2']}\n",
    "\n",
    "scoring = {'accuracy': 'accuracy',\n",
    "    'recall': 'recall',\n",
    "    'precision': 'precision',\n",
    "    'f1': 'f1',}\n",
    "\n",
    "grid = GridSearchCV(\n",
    "    estimator = model,\n",
    "    param_grid = hyperpara,\n",
    "    scoring = scoring,\n",
    "    refit = 'recall', # type: ignore\n",
    "    cv = crossval,\n",
    "    n_jobs = -1,\n",
    "    verbose = 2\n",
    ")"
   ]
  },
  {
   "cell_type": "code",
   "execution_count": null,
   "metadata": {
    "id": "7eOg1rtgOuev"
   },
   "outputs": [],
   "source": [
    "grid.fit(x,y)\n",
    "print(grid.best_params_)\n",
    "print(grid.best_score_)"
   ]
  },
  {
   "cell_type": "markdown",
   "metadata": {
    "id": "ixCCDwlTQrCz"
   },
   "source": [
    "Time to save the trained model as .pkl using Joblib\n",
    "\n",
    "And the necessary metadata as .json using (obv) Json"
   ]
  },
  {
   "cell_type": "code",
   "execution_count": null,
   "metadata": {
    "id": "7FoJYXo-P4fS"
   },
   "outputs": [],
   "source": [
    "joblib.dump(grid.best_estimator_, \"model.pkl\")\n",
    "\n",
    "metadata = {\n",
    "    'labels' : {\n",
    "    0 : 'On Time',\n",
    "    1 : 'Delayed' },\n",
    "    'features' : feat,\n",
    "    'model' : 'Random Forest Classifier' }\n",
    "\n",
    "with open(\"metadata.json\",'w') as dafile:\n",
    "  json.dump(metadata, dafile, indent = 4)"
   ]
  }
 ],
 "metadata": {
  "colab": {
   "authorship_tag": "ABX9TyNicuZY9SvK3w8Eq7LwV4K5",
   "provenance": []
  },
  "kernelspec": {
   "display_name": "Python 3",
   "name": "python3"
  },
  "language_info": {
   "name": "python"
  }
 },
 "nbformat": 4,
 "nbformat_minor": 0
}
